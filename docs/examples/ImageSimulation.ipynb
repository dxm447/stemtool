{
 "cells": [
  {
   "cell_type": "code",
   "execution_count": 1,
   "metadata": {},
   "outputs": [],
   "source": [
    "import json\n",
    "import matplotlib.pyplot as plt\n",
    "import matplotlib.image as mpimg\n",
    "import matplotlib as mpl\n",
    "import numpy as np\n",
    "import scipy as sp\n",
    "from skimage import transform as skt\n",
    "import os\n",
    "import time\n",
    "import multiprocessing as mp\n",
    "import skimage.filters as skf\n",
    "from scipy import ndimage as scnd\n",
    "import hdf5storage as h5\n",
    "from matplotlib_scalebar.scalebar import ScaleBar, SI_LENGTH_RECIPROCAL\n",
    "import math\n",
    "import ase.build as asb\n",
    "import ase\n",
    "import numba\n",
    "import sys\n",
    "from ncempy import io as emio\n",
    "import pyfftw.interfaces as pfi\n",
    "import pymcr\n",
    "import stemtool as st\n",
    "\n",
    "%matplotlib inline\n",
    "plt.rcParams[\"image.cmap\"] = \"magma\"\n",
    "plt.rcParams.update({\"font.size\": 25})\n",
    "plt.rcParams.update({\"font.weight\": \"bold\"})"
   ]
  },
  {
   "cell_type": "code",
   "execution_count": 2,
   "metadata": {},
   "outputs": [],
   "source": [
    "import warnings\n",
    "\n",
    "warnings.filterwarnings(\"ignore\")"
   ]
  },
  {
   "cell_type": "code",
   "execution_count": 3,
   "metadata": {},
   "outputs": [
    {
     "data": {
      "text/plain": [
       "{'_cellobj': Cell([[2.86337919, 0.0, 0.0], [-1.4316895949999993, 2.479759119207709, 0.0], [0.0, 0.0, 17.87331404]]),\n",
       " 'arrays': {'numbers': array([27, 27, 27, 46, 46, 46,  8,  8,  8,  8,  8,  8]),\n",
       "  'positions': array([[ 1.43169103e+00,  8.26585546e-01,  1.48944224e+01],\n",
       "         [-1.43168959e-06,  1.65317357e+00,  2.97889163e+00],\n",
       "         [ 0.00000000e+00,  0.00000000e+00,  8.93665702e+00],\n",
       "         [-1.43168959e-06,  1.65317357e+00,  1.19155487e+01],\n",
       "         [ 0.00000000e+00,  0.00000000e+00,  0.00000000e+00],\n",
       "         [ 1.43169103e+00,  8.26585546e-01,  5.95776539e+00],\n",
       "         [ 0.00000000e+00,  0.00000000e+00,  1.58629952e+01],\n",
       "         [-1.43168959e-06,  1.65317357e+00,  1.39258675e+01],\n",
       "         [ 1.43169103e+00,  8.26585546e-01,  3.94744652e+00],\n",
       "         [ 0.00000000e+00,  0.00000000e+00,  2.01031887e+00],\n",
       "         [-1.43168959e-06,  1.65317357e+00,  9.90521191e+00],\n",
       "         [ 1.43169103e+00,  8.26585546e-01,  7.96810213e+00]])},\n",
       " '_celldisp': array([[0.],\n",
       "        [0.],\n",
       "        [0.]]),\n",
       " '_constraints': [],\n",
       " 'info': {'spacegroup': Spacegroup(1, setting=1),\n",
       "  'unit_cell': 'conventional',\n",
       "  'occupancy': {0: {'Co': 1},\n",
       "   1: {'Co': 1},\n",
       "   2: {'Co': 1},\n",
       "   3: {'Pd': 1},\n",
       "   4: {'Pd': 1},\n",
       "   5: {'Pd': 1},\n",
       "   6: {'O': 1},\n",
       "   7: {'O': 1},\n",
       "   8: {'O': 1},\n",
       "   9: {'O': 1},\n",
       "   10: {'O': 1},\n",
       "   11: {'O': 1}}},\n",
       " '_calc': None}"
      ]
     },
     "execution_count": 3,
     "metadata": {},
     "output_type": "execute_result"
    }
   ],
   "source": [
    "pco = ase.io.read(\"/Users/7dm/Desktop/PdCoO2 APL/PdCoO2.cif\")\n",
    "pco.__dict__"
   ]
  },
  {
   "cell_type": "code",
   "execution_count": 4,
   "metadata": {},
   "outputs": [],
   "source": [
    "cell_dim = pco._cellobj[0:3]\n",
    "cell_pos = pco.positions\n",
    "atoms = pco.numbers"
   ]
  },
  {
   "cell_type": "code",
   "execution_count": 5,
   "metadata": {},
   "outputs": [],
   "source": [
    "def find_uc_pos(atom_pos, cell_dim):\n",
    "    uc_pos = np.zeros_like(atom_pos)\n",
    "    for ii in numba.prange(len(uc_pos)):\n",
    "        for jj in range(len(cell_dim)):\n",
    "            cc = atom_pos[ii, :] / cell_dim[jj, :]\n",
    "            cc[cc < 0] += 1\n",
    "            cc[cc == np.inf] = 0\n",
    "            cc[cc > 0.001]\n",
    "            uc_pos[ii, jj] = cc[jj]\n",
    "    uc_nonzero = uc_pos != 0\n",
    "    uc_inv = 1 / uc_pos[uc_nonzero]\n",
    "    uc_inv[np.abs(uc_inv - np.round(uc_inv)) < 0.001] = np.round(\n",
    "        uc_inv[np.abs(uc_inv - np.round(uc_inv)) < 0.001]\n",
    "    )\n",
    "    uc_pos[uc_nonzero] = 1 / uc_inv\n",
    "    uc_pos[uc_pos == 1] = 0\n",
    "    return uc_pos"
   ]
  },
  {
   "cell_type": "code",
   "execution_count": 6,
   "metadata": {},
   "outputs": [
    {
     "name": "stdout",
     "output_type": "stream",
     "text": [
      "Elapsed time: 0.001070 seconds.\n",
      "\n"
     ]
    }
   ],
   "source": [
    "st.tic()\n",
    "uc_vals = find_uc_pos(cell_pos, cell_dim)\n",
    "st.toc()"
   ]
  },
  {
   "cell_type": "code",
   "execution_count": 7,
   "metadata": {},
   "outputs": [
    {
     "data": {
      "text/plain": [
       "array([[0.5       , 0.33333333, 0.833333  ],\n",
       "       [0.        , 0.666667  , 0.16666667],\n",
       "       [0.        , 0.        , 0.5       ],\n",
       "       [0.        , 0.666667  , 0.666667  ],\n",
       "       [0.        , 0.        , 0.        ],\n",
       "       [0.5       , 0.33333333, 0.33333333],\n",
       "       [0.        , 0.        , 0.887524  ],\n",
       "       [0.        , 0.666667  , 0.779143  ],\n",
       "       [0.5       , 0.33333333, 0.220857  ],\n",
       "       [0.        , 0.        , 0.112476  ],\n",
       "       [0.        , 0.666667  , 0.55419   ],\n",
       "       [0.5       , 0.33333333, 0.44581   ]])"
      ]
     },
     "execution_count": 7,
     "metadata": {},
     "output_type": "execute_result"
    }
   ],
   "source": [
    "uc_vals"
   ]
  },
  {
   "cell_type": "code",
   "execution_count": 8,
   "metadata": {},
   "outputs": [],
   "source": [
    "def vec_angles(vec1, vec2):\n",
    "    cross_vec = np.sum(np.multiply(vec1, vec2))\n",
    "    vec_ref = cross_vec / (np.linalg.norm(vec1) * np.linalg.norm(vec2))\n",
    "    vec_ang = np.arccos(vec_ref)\n",
    "    vec_ang_d = vec_ang * (180 / np.pi)\n",
    "    if np.abs(vec_ang_d - np.round(vec_ang_d)) < 0.001:\n",
    "        vec_ang_d = np.round(vec_ang_d)\n",
    "    return vec_ang_d"
   ]
  },
  {
   "cell_type": "code",
   "execution_count": 9,
   "metadata": {},
   "outputs": [],
   "source": [
    "vec_vals = (1, -1, 0)\n",
    "vec_dir = np.matmul(np.transpose(cell_dim), np.asarray(vec_vals))\n",
    "slice_spacing = 0.5\n",
    "slice_vec = vec_dir / (np.linalg.norm(vec_dir) / slice_spacing)"
   ]
  },
  {
   "cell_type": "code",
   "execution_count": 10,
   "metadata": {},
   "outputs": [
    {
     "data": {
      "text/plain": [
       "array([ 0.4330127, -0.25     ,  0.       ])"
      ]
     },
     "execution_count": 10,
     "metadata": {},
     "output_type": "execute_result"
    }
   ],
   "source": [
    "slice_vec"
   ]
  },
  {
   "cell_type": "code",
   "execution_count": 11,
   "metadata": {},
   "outputs": [
    {
     "data": {
      "text/plain": [
       "array([85.77367156, 95.40906465, 87.91005269, 91.99602259, 77.79999596,\n",
       "       80.96378118, 88.76060113, 91.7371621 , 78.14952272, 83.68174418,\n",
       "       92.3425765 , 82.76500836])"
      ]
     },
     "execution_count": 11,
     "metadata": {},
     "output_type": "execute_result"
    }
   ],
   "source": [
    "dir_angs = np.zeros(len(cell_pos))\n",
    "for ii in range(len(dir_angs)):\n",
    "    dir_angs[ii] = vec_angles(cell_pos[ii, :] + np.asarray((1, 1, 1)), slice_vec)\n",
    "dir_angs"
   ]
  },
  {
   "cell_type": "code",
   "execution_count": 12,
   "metadata": {},
   "outputs": [
    {
     "data": {
      "text/plain": [
       "array([ 2.86337919,  2.86337919, 17.87331404])"
      ]
     },
     "execution_count": 12,
     "metadata": {},
     "output_type": "execute_result"
    }
   ],
   "source": [
    "cell_lengths = (np.sum((cell_dim**2), axis=1)) ** 0.5\n",
    "cell_lengths"
   ]
  },
  {
   "cell_type": "code",
   "execution_count": 13,
   "metadata": {},
   "outputs": [],
   "source": [
    "miller_dir = np.asarray((1, 2, 0))"
   ]
  },
  {
   "cell_type": "code",
   "execution_count": 78,
   "metadata": {},
   "outputs": [],
   "source": [
    "def miller_inverse(miller):\n",
    "    miller_inv = np.empty_like(miller, dtype=np.float)\n",
    "    miller_inv[miller == 0] = 0\n",
    "    miller_inv[miller != 0] = 1 / miller[miller != 0]\n",
    "    return miller_inv\n",
    "\n",
    "\n",
    "def get_number_cells(miller_dir, length, cell_lengths):\n",
    "    miller_vec_ang = miller_inverse(miller_dir) * cell_lengths\n",
    "    return np.ceil(\n",
    "        miller_inverse(miller_dir / (length / np.linalg.norm(miller_vec_ang)))\n",
    "    )"
   ]
  },
  {
   "cell_type": "code",
   "execution_count": 79,
   "metadata": {},
   "outputs": [
    {
     "data": {
      "text/plain": [
       "array([63., 32.,  0.])"
      ]
     },
     "execution_count": 79,
     "metadata": {},
     "output_type": "execute_result"
    }
   ],
   "source": [
    "no_cells = get_number_cells(miller_dir, 200, cell_lengths)\n",
    "no_cells"
   ]
  },
  {
   "cell_type": "code",
   "execution_count": 80,
   "metadata": {},
   "outputs": [
    {
     "data": {
      "text/plain": [
       "(array([1, 2, 0]), array([ 2.86337919,  2.86337919, 17.87331404]))"
      ]
     },
     "execution_count": 80,
     "metadata": {},
     "output_type": "execute_result"
    }
   ],
   "source": [
    "miller_dir, cell_lengths"
   ]
  },
  {
   "cell_type": "code",
   "execution_count": 82,
   "metadata": {},
   "outputs": [
    {
     "data": {
      "text/plain": [
       "(-2.0, 65.0)"
      ]
     },
     "execution_count": 82,
     "metadata": {},
     "output_type": "execute_result"
    },
    {
     "data": {
      "image/png": "[encoded data removed]",
      "text/plain": [
       "<Figure size 1080x1080 with 1 Axes>"
      ]
     },
     "metadata": {
      "needs_background": "light"
     },
     "output_type": "display_data"
    }
   ],
   "source": [
    "yy, xx = np.meshgrid(\n",
    "    np.arange(0, int(no_cells[1]), 1), np.arange(0, int(no_cells[0]), 1)\n",
    ")\n",
    "yy = yy.ravel()\n",
    "xx = xx.ravel()\n",
    "vm = 2 + np.amax(no_cells)\n",
    "xp = np.arange(vm)\n",
    "yp = xp * (miller_dir[0] / miller_dir[1])\n",
    "plt.figure(figsize=(15, 15))\n",
    "plt.scatter(xx, yy)\n",
    "plt.plot(xp, yp, \"r\")\n",
    "plt.xlim(-2, vm)\n",
    "plt.ylim(-2, vm)"
   ]
  },
  {
   "cell_type": "code",
   "execution_count": 81,
   "metadata": {},
   "outputs": [],
   "source": [
    "yy_ang, xx_ang = np.meshgrid(\n",
    "    np.arange(0, int(cell_lengths[1] * no_cells[1]), 1),\n",
    "    np.arange(0, int(cell_lengths[0] * no_cells[0]), 1),\n",
    ")\n",
    "yy_ang = np.ravel(yy_ang)\n",
    "xx_ang = np.ravel(xx_ang)"
   ]
  },
  {
   "cell_type": "code",
   "execution_count": 86,
   "metadata": {},
   "outputs": [
    {
     "data": {
      "text/plain": [
       "array([-0.5,  1. ,  0. ])"
      ]
     },
     "execution_count": 86,
     "metadata": {},
     "output_type": "execute_result"
    }
   ],
   "source": [
    "np.cross(np.asarray((0, 0, 1)), miller_inverse(miller_dir))"
   ]
  },
  {
   "cell_type": "code",
   "execution_count": 107,
   "metadata": {},
   "outputs": [
    {
     "data": {
      "text/plain": [
       "array([0, 1, 2])"
      ]
     },
     "execution_count": 107,
     "metadata": {},
     "output_type": "execute_result"
    }
   ],
   "source": [
    "miller_axis = miller_inverse(miller_dir)/np.linalg.norm(miller_inverse(miller_dir))\n",
    "miller_test = (miller_axis==np.max(miller_axis))\n",
    "coord_axes = np.arange(len(miller_test))\n",
    "if (miller_dir[miller_test]<miller_axis[miller_test]):\n",
    "    second_axis = (np.roll(miller_test,1)).astype(int)\n",
    "else:\n",
    "    calc_axes = "
   ]
  },
  {
   "cell_type": "code",
   "execution_count": 39,
   "metadata": {},
   "outputs": [
    {
     "data": {
      "text/plain": [
       "102.85912696499034"
      ]
     },
     "execution_count": 39,
     "metadata": {},
     "output_type": "execute_result"
    }
   ],
   "source": [
    "point_distances = np.abs(\n",
    "    (miller_vec_ang[1] * yy_ang) - (miller_vec_ang[0] * xx_ang)\n",
    ") / (((miller_vec_ang[1] ** 2) + (miller_vec_ang[0] ** 2)) ** 0.5)\n",
    "np.amax(point_distances)"
   ]
  },
  {
   "cell_type": "code",
   "execution_count": 28,
   "metadata": {},
   "outputs": [
    {
     "data": {
      "text/plain": [
       "(-204.0, 204.0)"
      ]
     },
     "execution_count": 28,
     "metadata": {},
     "output_type": "execute_result"
    },
    {
     "data": {
      "image/png": "[encoded data removed]",
      "text/plain": [
       "<Figure size 1080x1080 with 1 Axes>"
      ]
     },
     "metadata": {
      "needs_background": "light"
     },
     "output_type": "display_data"
    }
   ],
   "source": [
    "max_dist = 122\n",
    "yy_new, xx_new = np.meshgrid(\n",
    "    np.arange(0 - np.ceil(max_dist), int(no_cells[1]) + np.ceil(max_dist), 1),\n",
    "    np.arange(0 - np.ceil(max_dist), int(no_cells[0]) + np.ceil(max_dist), 1),\n",
    ")\n",
    "yy_new = yy_new.ravel()\n",
    "xx_new = xx_new.ravel()\n",
    "vm_new = 2 + np.amax((np.amax(yy_new), np.max(xx_new)))\n",
    "plt.figure(figsize=(15, 15))\n",
    "plt.scatter(xx_new, yy_new, c=\"b\")\n",
    "plt.scatter(xx, yy, c=\"y\")\n",
    "plt.plot(xp, yp, \"r\")\n",
    "plt.xlim(-vm_new, vm_new)\n",
    "plt.ylim(-vm_new, vm_new)"
   ]
  },
  {
   "cell_type": "code",
   "execution_count": 19,
   "metadata": {},
   "outputs": [
    {
     "data": {
      "text/plain": [
       "(-204.0, 204.0)"
      ]
     },
     "execution_count": 19,
     "metadata": {},
     "output_type": "execute_result"
    },
    {
     "data": {
      "image/png": "[encoded data removed]",
      "text/plain": [
       "<Figure size 1080x1080 with 1 Axes>"
      ]
     },
     "metadata": {
      "needs_background": "light"
     },
     "output_type": "display_data"
    }
   ],
   "source": [
    "dists = np.abs((miller_dir[1] * yy_new) - (miller_dir[0] * xx_new)) / (\n",
    "    ((miller_dir[1] ** 2) + (miller_dir[0] ** 2)) ** 0.5\n",
    ")\n",
    "xx_firstpass = xx_new[dists < max_dist]\n",
    "yy_firstpass = yy_new[dists < max_dist]\n",
    "dist_angles = np.abs(\n",
    "    np.arctan2((yy_firstpass - 0), (xx_firstpass - 0)) - np.arctan2(1, 2)\n",
    ")\n",
    "xx_secondpass = xx_firstpass[dist_angles < (np.pi / 2)]\n",
    "yy_secondpass = yy_firstpass[dist_angles < (np.pi / 2)]\n",
    "dist_angles2 = np.abs(\n",
    "    np.arctan2((yy_secondpass - 81), (xx_secondpass - 40)) - np.arctan2(1, 2)\n",
    ")\n",
    "xx_thirdpass = xx_secondpass[dist_angles2 > (np.pi / 2)]\n",
    "yy_thirdpass = yy_secondpass[dist_angles2 > (np.pi / 2)]\n",
    "plt.figure(figsize=(15, 15))\n",
    "plt.scatter(xx_thirdpass, yy_thirdpass, c=\"b\")\n",
    "plt.scatter(xx, yy, c=\"y\")\n",
    "plt.plot(xp, yp, \"r\")\n",
    "plt.xlim(-vm_new, vm_new)\n",
    "plt.ylim(-vm_new, vm_new)"
   ]
  },
  {
   "cell_type": "code",
   "execution_count": 20,
   "metadata": {},
   "outputs": [
    {
     "data": {
      "text/plain": [
       "1.1071487177940904"
      ]
     },
     "execution_count": 20,
     "metadata": {},
     "output_type": "execute_result"
    }
   ],
   "source": [
    "np.arctan2(2, 1)"
   ]
  },
  {
   "cell_type": "code",
   "execution_count": 27,
   "metadata": {},
   "outputs": [],
   "source": [
    "def slabbing_2D(miller_dir, no_cells, max_hdist):\n",
    "    yy, xx = np.meshgrid(\n",
    "        np.arange(0, int(no_cells[1]), 1), np.arange(0, int(no_cells[0]), 1)\n",
    "    )\n",
    "    yy = yy.ravel()\n",
    "    xx = xx.ravel()\n",
    "    xp = np.arange(np.amax((np.amax(yy), np.max(xx))))\n",
    "    yp = xp * (miller_dir[0] / miller_dir[1])\n",
    "    yy_new, xx_new = np.meshgrid(\n",
    "        np.arange(0 - np.ceil(max_hdist), int(no_cells[1]) + np.ceil(max_hdist), 1),\n",
    "        np.arange(0 - np.ceil(max_hdist), int(no_cells[0]) + np.ceil(max_hdist), 1),\n",
    "    )\n",
    "    yy_new = yy_new.ravel()\n",
    "    xx_new = xx_new.ravel()\n",
    "    dists = np.abs((miller_dir[1] * yy_new) - (miller_dir[0] * xx_new)) / (\n",
    "        ((miller_dir[1] ** 2) + (miller_dir[0] ** 2)) ** 0.5\n",
    "    )\n",
    "    xx_firstpass = xx_new[dists < max_hdist]\n",
    "    yy_firstpass = yy_new[dists < max_hdist]\n",
    "    dist_angles = np.abs(\n",
    "        np.arctan2((yy_firstpass - 0), (xx_firstpass - 0))\n",
    "        - np.arctan2(miller_dir[0], miller_dir[1])\n",
    "    )\n",
    "    xx_secondpass = xx_firstpass[dist_angles < (np.pi / 2)]\n",
    "    yy_secondpass = yy_firstpass[dist_angles < (np.pi / 2)]\n",
    "    dist_angles2 = np.abs(\n",
    "        np.arctan2((yy_secondpass - 81), (xx_secondpass - 40))\n",
    "        - np.arctan2(miller_dir[0], miller_dir[1])\n",
    "    )\n",
    "    xx_thirdpass = xx_secondpass[dist_angles2 > (np.pi / 2)]\n",
    "    yy_thirdpass = yy_secondpass[dist_angles2 > (np.pi / 2)]\n",
    "    vals = np.asarray((yy_thirdpass, xx_thirdpass))\n",
    "    return vals.transpose()"
   ]
  },
  {
   "cell_type": "code",
   "execution_count": null,
   "metadata": {},
   "outputs": [],
   "source": []
  }
 ],
 "metadata": {
  "kernelspec": {
   "display_name": "Python 3",
   "language": "python",
   "name": "python3"
  },
  "language_info": {
   "codemirror_mode": {
    "name": "ipython",
    "version": 3
   },
   "file_extension": ".py",
   "mimetype": "text/x-python",
   "name": "python",
   "nbconvert_exporter": "python",
   "pygments_lexer": "ipython3",
   "version": "3.7.3"
  }
 },
 "nbformat": 4,
 "nbformat_minor": 4
}
